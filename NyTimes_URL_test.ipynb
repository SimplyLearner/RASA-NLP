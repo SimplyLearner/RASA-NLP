{
  "nbformat": 4,
  "nbformat_minor": 0,
  "metadata": {
    "colab": {
      "provenance": [],
      "collapsed_sections": []
    },
    "kernelspec": {
      "name": "python3",
      "display_name": "Python 3"
    },
    "language_info": {
      "name": "python"
    }
  },
  "cells": [
    {
      "cell_type": "code",
      "execution_count": 1,
      "metadata": {
        "id": "B9Gi23FWhYkZ"
      },
      "outputs": [],
      "source": [
        "import requests\n",
        "import json"
      ]
    },
    {
      "cell_type": "code",
      "source": [
        "url = 'https://api.nytimes.com/svc/news/v3/content/all/{category}.json'.format(category=\"technology\")\n",
        "params = {'api-key': \"2hq54bvFO0yWiRdY70reBU2GmusBtnwM\", 'limit': 5}\n",
        "response = requests.get(url,params).text\n",
        "json_data = json.loads(response)[\"results\"]"
      ],
      "metadata": {
        "id": "Sn3z2H7PhfnI"
      },
      "execution_count": 7,
      "outputs": []
    },
    {
      "cell_type": "code",
      "source": [
        "requests.get(url,params).text"
      ],
      "metadata": {
        "colab": {
          "base_uri": "https://localhost:8080/",
          "height": 174
        },
        "id": "TPdi0rLPh3u6",
        "outputId": "5d741030-0669-470a-9be7-000e09f2bb94"
      },
      "execution_count": 8,
      "outputs": [
        {
          "output_type": "execute_result",
          "data": {
            "text/plain": [
              "'{\"status\":\"OK\",\"copyright\":\"Copyright (c) 2022 The New York Times Company.  All Rights Reserved.\",\"num_results\":500,\"results\":[{\"slug_name\":\"11twitter\",\"section\":\"Technology\",\"subsection\":\"\",\"title\":\"A Verifiable Mess: Twitter Users Create Havoc by Impersonating Brands\",\"abstract\":\"The social media service, which is undergoing changes from its new owner Elon Musk, has descended into a messy swirl of spoof messages and parody accounts.\",\"uri\":\"nyt://article/8e761fdd-a5d0-50b2-9bcb-9aa75c19e0d7\",\"url\":\"https://www.nytimes.com/2022/11/11/technology/twitter-blue-fake-accounts.html\",\"byline\":\"BY RYAN MAC, BENJAMIN MULLIN, KATE CONGER AND MIKE ISAAC\",\"thumbnail_standard\":\"https://static01.nyt.com/images/2022/11/11/business/11TWITTER-01/11TWITTER-01-thumbStandard.jpg\",\"item_type\":\"Article\",\"source\":\"New York Times\",\"updated_date\":\"2022-11-12T02:28:50-05:00\",\"created_date\":\"2022-11-11T16:57:52-05:00\",\"published_date\":\"2022-11-11T16:57:52-05:00\",\"first_published_date\":\"2022-11-11T16:57:52-05:00\",\"material_type_facet\":\"News\",\"kicker\":\"\",\"subheadline\":\"\",\"des_facet\":[\"Social Media\",\"Rumors and Misinformation\",\"Hoaxes and Pranks\",\"Mergers, Acquisitions and Divestitures\",\"Layoffs and Job Reductions\"],\"org_facet\":[\"Twitter\"],\"per_facet\":[\"Musk, Elon\"],\"geo_facet\":null,\"related_urls\":null,\"multimedia\":[{\"url\":\"https://static01.nyt.com/images/2022/11/11/business/11TWITTER-01/11TWITTER-01-thumbStandard.jpg\",\"format\":\"Standard Thumbnail\",\"height\":75,\"width\":75,\"type\":\"image\",\"subtype\":\"photo\",\"caption\":\"\",\"copyright\":\"Jason Henry for The New York Times\"},{\"url\":\"https://static01.nyt.com/images/2022/11/11/business/11TWITTER-01/merlin_214496184_49e6a04f-7d18-4c14-add0-33fc1a291b84-mediumThreeByTwo210.jpg\",\"format\":\"mediumThreeByTwo210\",\"height\":140,\"width\":210,\"type\":\"image\",\"subtype\":\"photo\",\"caption\":\"\",\"copyright\":\"Jason Henry for The New York Times\"},{\"url\":\"https://static01.nyt.com/images/2022/11/11/business/11TWITTER-01/merlin_214496184_49e6a04f-7d18-4c14-add0-33fc1a291b84-mediumThreeByTwo440.jpg\",\"format\":\"mediumThreeByTwo440\",\"height\":293,\"width\":440,\"type\":\"image\",\"subtype\":\"photo\",\"caption\":\"\",\"copyright\":\"Jason Henry for The New York Times\"},{\"url\":\"https://static01.nyt.com/images/2022/11/11/business/11TWITTER-01/merlin_214496184_49e6a04f-7d18-4c14-add0-33fc1a291b84-articleInline.jpg\",\"format\":\"Normal\",\"height\":127,\"width\":190,\"type\":\"image\",\"subtype\":\"photo\",\"caption\":\"\",\"copyright\":\"Jason Henry for The New York Times\"}]},{\"slug_name\":\"11ftx-investors\",\"section\":\"Technology\",\"subsection\":\"\",\"title\":\"Investors Who Put $2 Billion Into FTX Face Scrutiny, Too\",\"abstract\":\"Venture capital firms and investment funds showered the failed crypto exchange and its founder with money. There were few strings attached.\",\"uri\":\"nyt://article/e5a07b33-45eb-5207-98e4-95c3aacfa6cf\",\"url\":\"https://www.nytimes.com/2022/11/11/technology/ftx-investors-venture-capital.html\",\"byline\":\"BY ERIN GRIFFITH AND DAVID YAFFE-BELLANY\",\"thumbnail_standard\":\"https://static01.nyt.com/images/2022/11/11/business/11ftx-bankruptcy-01/merlin_206461899_e40f4ca6-8ed6-4984-babc-6d63ff0eed06-thumbStandard.jpg\",\"item_type\":\"Article\",\"source\":\"New York Times\",\"updated_date\":\"2022-11-11T15:27:44-05:00\",\"created_date\":\"2022-11-11T14:39:17-05:00\",\"published_date\":\"2022-11-11T14:39:17-05:00\",\"first_published_date\":\"2022-11-11T14:39:17-05:00\",\"material_type_facet\":\"News\",\"kicker\":\"\",\"subheadline\":\"\",\"des_facet\":[\"Virtual Currency\",\"Bankruptcies\",\"Regulation and Deregulation of Industry\",\"Computers and the Internet\",\"Venture Capital\"],\"org_facet\":[\"HK FTX Trading Ltd (Futures Exchange)\",\"Sequoia Capital\"],\"per_facet\":[\"Bankman-Fried, Sam\"],\"geo_facet\":null,\"related_urls\":null,\"multimedia\":[{\"url\":\"https://static01.nyt.com/images/2022/11/11/business/11ftx-bankruptcy-01/merlin_206461899_e40f4ca6-8ed6-4984-babc-6d63ff0eed06-thumbStandard.jpg\",\"format\":\"Standard Thumbnail\",\"height\":75,\"width\":75,\"type\":\"image\",\"subtype\":\"photo\",\"caption\":\"Sam Bankman-Fried, FTX’s founder, once told interested investors to “support him and observe.” \",\"copyright\":\"Erika P. Rodriguez for The New York Times\"},{\"url\":\"https://static01.nyt.com/images/2022/11/11/business/11ftx-bankruptcy-01/merlin_206461899_e40f4ca6-8ed6-4984-babc-6d63ff0eed06-mediumThreeByTwo210.jpg\",\"format\":\"mediumThreeByTwo210\",\"height\":140,\"width\":210,\"type\":\"image\",\"subtype\":\"photo\",\"caption\":\"Sam Bankman-Fried, FTX’s founder, once told interested investors to “support him and observe.” \",\"copyright\":\"Erika P. Rodriguez for The New York Times\"},{\"url\":\"https://static01.nyt.com/images/2022/11/11/business/11ftx-bankruptcy-01/merlin_206461899_e40f4ca6-8ed6-4984-babc-6d63ff0eed06-mediumThreeByTwo440.jpg\",\"format\":\"mediumThreeByTwo440\",\"height\":293,\"width\":440,\"type\":\"image\",\"subtype\":\"photo\",\"caption\":\"Sam Bankman-Fried, FTX’s founder, once told interested investors to “support him and observe.” \",\"copyright\":\"Erika P. Rodriguez for The New York Times\"},{\"url\":\"https://static01.nyt.com/images/2022/11/11/business/11ftx-bankruptcy-01/merlin_206461899_e40f4ca6-8ed6-4984-babc-6d63ff0eed06-articleInline.jpg\",\"format\":\"Normal\",\"height\":127,\"width\":190,\"type\":\"image\",\"subtype\":\"photo\",\"caption\":\"Sam Bankman-Fried, FTX’s founder, once told interested investors to “support him and observe.” \",\"copyright\":\"Erika P. Rodriguez for The New York Times\"}]},{\"slug_name\":\"11musk-ticktock\",\"section\":\"Technology\",\"subsection\":\"\",\"title\":\"Two Weeks of Chaos: Inside Elon Musk’s Takeover of Twitter\",\"abstract\":\"Mr. Musk ordered immediate layoffs, fired executives by email and laid down product deadlines, transforming the company.\",\"uri\":\"nyt://article/df79aa79-be2d-5340-a41a-9089ff237fd6\",\"url\":\"https://www.nytimes.com/2022/11/11/technology/elon-musk-twitter-takeover.html\",\"byline\":\"BY KATE CONGER, MIKE ISAAC, RYAN MAC AND TIFFANY HSU\",\"thumbnail_standard\":\"https://static01.nyt.com/images/2022/11/09/business/00musk-ticktock/00musk-ticktock-thumbStandard.jpg\",\"item_type\":\"Article\",\"source\":\"New York Times\",\"updated_date\":\"2022-11-11T17:07:28-05:00\",\"created_date\":\"2022-11-11T05:00:28-05:00\",\"published_date\":\"2022-11-11T05:00:28-05:00\",\"first_published_date\":\"2022-11-11T05:00:28-05:00\",\"material_type_facet\":\"News\",\"kicker\":\"\",\"subheadline\":\"\",\"des_facet\":[\"Social Media\",\"Online Advertising\",\"Layoffs and Job Reductions\",\"Computers and the Internet\",\"Appointments and Executive Changes\",\"Mergers, Acquisitions and Divestitures\"],\"org_facet\":[\"Twitter\"],\"per_facet\":[\"Musk, Elon\"],\"geo_facet\":null,\"related_urls\":null,\"multimedia\":[{\"url\":\"https://static01.nyt.com/images/2022/11/09/business/00musk-ticktock/00musk-ticktock-thumbStandard.jpg\",\"format\":\"Standard Thumbnail\",\"height\":75,\"width\":75,\"type\":\"image\",\"subtype\":\"photo\",\"caption\":\"\",\"copyright\":\"Ben Jones\"},{\"url\":\"https://static01.nyt.com/images/2022/11/09/business/00musk-ticktock/00musk-ticktock-mediumThreeByTwo210.jpg\",\"format\":\"mediumThreeByTwo210\",\"height\":140,\"width\":210,\"type\":\"image\",\"subtype\":\"photo\",\"caption\":\"\",\"copyright\":\"Ben Jones\"},{\"url\":\"https://static01.nyt.com/images/2022/11/09/business/00musk-ticktock/00musk-ticktock-mediumThreeByTwo440.jpg\",\"format\":\"mediumThreeByTwo440\",\"height\":293,\"width\":440,\"type\":\"image\",\"subtype\":\"photo\",\"caption\":\"\",\"copyright\":\"Ben Jones\"},{\"url\":\"https://static01.nyt.com/images/2022/11/09/business/00musk-ticktock/00musk-ticktock-articleInline.jpg\",\"format\":\"Normal\",\"height\":258,\"width\":190,\"type\":\"image\",\"subtype\":\"photo\",\"caption\":\"\",\"copyright\":\"Ben Jones\"}]},{\"slug_name\":\"10ftx-binance\",\"section\":\"Technology\",\"subsection\":\"\",\"title\":\"What Happened to FTX? Here’s What to Know.\",\"abstract\":\"Binance, the world’s largest cryptocurrency exchange, was set to bail out FTX. Then it pulled out of the deal.\",\"uri\":\"nyt://article/99e3dcf2-6804-5483-92de-61e3966fbbc3\",\"url\":\"https://www.nytimes.com/2022/11/10/technology/ftx-binance-crypto-explained.html\",\"byline\":\"BY KALLEY HUANG\",\"thumbnail_standard\":\"https://static01.nyt.com/images/2022/11/10/business/10ftx-binance-04/merlin_216408894_184d2add-d828-4790-911e-4b5d097e31f2-thumbStandard.jpg\",\"item_type\":\"Article\",\"source\":\"New York Times\",\"updated_date\":\"2022-11-11T09:57:54-05:00\",\"created_date\":\"2022-11-10T16:58:17-05:00\",\"published_date\":\"2022-11-10T16:58:17-05:00\",\"first_published_date\":\"2022-11-10T16:58:17-05:00\",\"material_type_facet\":\"News\",\"kicker\":\"\",\"subheadline\":\"\",\"des_facet\":[\"Virtual Currency\",\"Regulation and Deregulation of Industry\",\"Mergers, Acquisitions and Divestitures\",\"Computers and the Internet\"],\"org_facet\":[\"HK FTX Trading Ltd (Futures Exchange)\",\"Binance\"],\"per_facet\":[\"Bankman-Fried, Sam\",\"Zhao, Changpeng\"],\"geo_facet\":null,\"related_urls\":null,\"multimedia\":[{\"url\":\"https://static01.nyt.com/images/2022/11/10/business/10ftx-binance-04/merlin_216408894_184d2add-d828-4790-911e-4b5d097e31f2-thumbStandard.jpg\",\"format\":\"Standard Thumbnail\",\"height\":75,\"width\":75,\"type\":\"image\",\"subtype\":\"photo\",\"caption\":\"FTX appeared set for a bailout from Binance, but then the deal fell apart.\",\"copyright\":\"Michael M. Santiago/Getty Images\"},{\"url\":\"https://static01.nyt.com/images/2022/11/10/business/10ftx-binance-04/merlin_216408894_184d2add-d828-4790-911e-4b5d097e31f2-mediumThreeByTwo210.jpg\",\"format\":\"mediumThreeByTwo210\",\"height\":140,\"width\":210,\"type\":\"image\",\"subtype\":\"photo\",\"caption\":\"FTX appeared set for a bailout from Binance, but then the deal fell apart.\",\"copyright\":\"Michael M. Santiago/Getty Images\"},{\"url\":\"https://static01.nyt.com/images/2022/11/10/business/10ftx-binance-04/merlin_216408894_184d2add-d828-4790-911e-4b5d097e31f2-mediumThreeByTwo440.jpg\",\"format\":\"mediumThreeByTwo440\",\"height\":293,\"width\":440,\"type\":\"image\",\"subtype\":\"photo\",\"caption\":\"FTX appeared set for a bailout from Binance, but then the deal fell apart.\",\"copyright\":\"Michael M. Santiago/Getty Images\"},{\"url\":\"https://static01.nyt.com/images/2022/11/10/business/10ftx-binance-04/merlin_216408894_184d2add-d828-4790-911e-4b5d097e31f2-articleInline.jpg\",\"format\":\"Normal\",\"height\":127,\"width\":190,\"type\":\"image\",\"subtype\":\"photo\",\"caption\":\"FTX appeared set for a bailout from Binance, but then the deal fell apart.\",\"copyright\":\"Michael M. Santiago/Getty Images\"}]},{\"slug_name\":\"10twitter\",\"section\":\"Technology\",\"subsection\":\"\",\"title\":\"‘Economic Picture Ahead Is Dire,’ Elon Musk Tells Twitter Employees\",\"abstract\":\"In his first communications with Twitter’s staff, the company’s new owner painted a bleak picture as more executives resigned.\",\"uri\":\"nyt://article/761d4655-cdce-5a22-b159-8b7a2013814c\",\"url\":\"https://www.nytimes.com/2022/11/10/technology/elon-musk-twitter-employees.html\",\"byline\":\"BY KATE CONGER, RYAN MAC AND MIKE ISAAC\",\"thumbnail_standard\":\"https://static01.nyt.com/images/2022/11/10/multimedia/10twitter-promo-media-1-aac9/10twitter-promo-media-1-aac9-thumbStandard-v2.jpg\",\"item_type\":\"Article\",\"source\":\"New York Times\",\"updated_date\":\"2022-11-10T19:26:40-05:00\",\"created_date\":\"2022-11-10T11:18:08-05:00\",\"published_date\":\"2022-11-10T11:18:08-05:00\",\"first_published_date\":\"2022-11-10T11:18:08-05:00\",\"material_type_facet\":\"News\",\"kicker\":\"\",\"subheadline\":\"\",\"des_facet\":[\"Finances\",\"Social Media\",\"Layoffs and Job Reductions\",\"Coronavirus Return to Office\",\"Privacy\",\"Workplace Environment\",\"Advertising and Marketing\",\"Appointments and Executive Changes\"],\"org_facet\":[\"Twitter\",\"Federal Trade Commission\"],\"per_facet\":[\"Musk, Elon\"],\"geo_facet\":null,\"related_urls\":null,\"multimedia\":[{\"url\":\"https://static01.nyt.com/images/2022/11/10/multimedia/10twitter-promo-media-1-aac9/10twitter-promo-media-1-aac9-thumbStandard-v2.jpg\",\"format\":\"Standard Thumbnail\",\"height\":75,\"width\":75,\"type\":\"image\",\"subtype\":\"photo\",\"caption\":\"\",\"copyright\":\"Mike Blake/Reuters\"},{\"url\":\"https://static01.nyt.com/images/2022/11/10/multimedia/10twitter-promo-media-1-aac9/10twitter-promo-media-1-aac9-mediumThreeByTwo210.jpg\",\"format\":\"mediumThreeByTwo210\",\"height\":140,\"width\":210,\"type\":\"image\",\"subtype\":\"photo\",\"caption\":\"\",\"copyright\":\"Mike Blake/Reuters\"},{\"url\":\"https://static01.nyt.com/images/2022/11/10/multimedia/10twitter-promo-media-1-aac9/10twitter-promo-media-1-aac9-mediumThreeByTwo440.jpg\",\"format\":\"mediumThreeByTwo440\",\"height\":293,\"width\":440,\"type\":\"image\",\"subtype\":\"photo\",\"caption\":\"\",\"copyright\":\"Mike Blake/Reuters\"},{\"url\":\"https://static01.nyt.com/images/2022/11/10/multimedia/10twitter-promo-media-1-aac9/10twitter-promo-media-1-aac9-articleInline.jpg\",\"format\":\"Normal\",\"height\":127,\"width\":190,\"type\":\"image\",\"subtype\":\"photo\",\"caption\":\"\",\"copyright\":\"Mike Blake/Reuters\"}]}]}'"
            ],
            "application/vnd.google.colaboratory.intrinsic+json": {
              "type": "string"
            }
          },
          "metadata": {},
          "execution_count": 8
        }
      ]
    },
    {
      "cell_type": "code",
      "source": [
        "for data in json_data:\n",
        "  print(data['title'])"
      ],
      "metadata": {
        "colab": {
          "base_uri": "https://localhost:8080/"
        },
        "id": "M2g3qq11h46k",
        "outputId": "4b0e92c6-4a12-412d-851d-c9816c7a6990"
      },
      "execution_count": 9,
      "outputs": [
        {
          "output_type": "stream",
          "name": "stdout",
          "text": [
            "A Verifiable Mess: Twitter Users Create Havoc by Impersonating Brands\n",
            "Investors Who Put $2 Billion Into FTX Face Scrutiny, Too\n",
            "Two Weeks of Chaos: Inside Elon Musk’s Takeover of Twitter\n",
            "What Happened to FTX? Here’s What to Know.\n",
            "‘Economic Picture Ahead Is Dire,’ Elon Musk Tells Twitter Employees\n"
          ]
        }
      ]
    },
    {
      "cell_type": "code",
      "source": [],
      "metadata": {
        "id": "8FH986x0i8W_"
      },
      "execution_count": null,
      "outputs": []
    }
  ]
}